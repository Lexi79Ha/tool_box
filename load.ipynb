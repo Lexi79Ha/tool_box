{
 "cells": [
  {
   "cell_type": "code",
   "execution_count": 21,
   "id": "31f54ea42873b4e6",
   "metadata": {
    "collapsed": false,
    "ExecuteTime": {
     "end_time": "2024-03-05T22:27:17.958938100Z",
     "start_time": "2024-03-05T22:27:17.904562500Z"
    }
   },
   "outputs": [],
   "source": [
    "import psycopg2\n",
    "\n",
    "conn = psycopg2.connect(\"host=localhost dbname=Book_Store user=postgres password=auth2020\")\n",
    "cur = conn.cursor()\n",
    "\n",
    "with open('C:/Users/lmhmo/books/books/static/buyer_data.csv', 'r') as f:\n",
    "    cur.copy_expert(\"COPY buyer (first_name, last_name, city, phone_number, state, email) FROM STDIN WITH CSV HEADER\", f)\n",
    "\n",
    "conn.commit()\n",
    "conn.close()\n"
   ]
  },
  {
   "cell_type": "code",
   "outputs": [],
   "source": [],
   "metadata": {
    "collapsed": false,
    "ExecuteTime": {
     "end_time": "2024-03-05T21:34:52.833309200Z",
     "start_time": "2024-03-05T21:34:52.823065200Z"
    }
   },
   "id": "8a3754f0a130d62",
   "execution_count": 1
  },
  {
   "cell_type": "code",
   "outputs": [],
   "source": [],
   "metadata": {
    "collapsed": false
   },
   "id": "82c2dd5076f457f9"
  }
 ],
 "metadata": {
  "kernelspec": {
   "display_name": "Python 3",
   "language": "python",
   "name": "python3"
  },
  "language_info": {
   "codemirror_mode": {
    "name": "ipython",
    "version": 2
   },
   "file_extension": ".py",
   "mimetype": "text/x-python",
   "name": "python",
   "nbconvert_exporter": "python",
   "pygments_lexer": "ipython2",
   "version": "2.7.6"
  }
 },
 "nbformat": 4,
 "nbformat_minor": 5
}
